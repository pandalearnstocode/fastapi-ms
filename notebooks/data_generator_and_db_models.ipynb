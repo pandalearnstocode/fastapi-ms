{
 "cells": [
  {
   "cell_type": "code",
   "execution_count": 40,
   "metadata": {},
   "outputs": [],
   "source": [
    "from sqlalchemy import create_engine\n",
    "import random\n",
    "import pandas as pd\n",
    "import numpy as np\n",
    "import names\n",
    "import string\n",
    "\n",
    "### Ufuncs\n",
    "\n",
    "def _clamp(x):\n",
    "    return max(0, min(x, 255))\n",
    "\n",
    "\n",
    "def col_gen():\n",
    "    return \"#{0:02x}{1:02x}{2:02x}\".format(\n",
    "        _clamp(random.randint(10, 255)),\n",
    "        _clamp(random.randint(10, 255)),\n",
    "        _clamp(random.randint(10, 255)),\n",
    "    )"
   ]
  },
  {
   "cell_type": "markdown",
   "metadata": {},
   "source": [
    "## Donut chart\n",
    "\n",
    "* Two tables: data and fill\n",
    "* In data table it will have two columns: label and value\n",
    "* In fill table it will have two columns: label and color\n",
    "* As next step we need to have a drop down menu which will filter the data which has to be shown in the chart and in the backend we will send a list of key value pair where value will be of the same format as it is for a single selection of the drop down menu.\n",
    "\n",
    "\n",
    "* __Reference:__ https://codesandbox.io/s/6hr9o"
   ]
  },
  {
   "cell_type": "code",
   "execution_count": 41,
   "metadata": {},
   "outputs": [
    {
     "data": {
      "text/plain": [
       "[{'label': 'Joseph Moran', 'value': 76, 'fill': '#214fec'},\n",
       " {'label': 'Gregory Mancini', 'value': 6, 'fill': '#af9093'},\n",
       " {'label': 'Kurt Hashimoto', 'value': 30, 'fill': '#d6ff15'},\n",
       " {'label': 'Keneth Manning', 'value': 6, 'fill': '#fae0c8'},\n",
       " {'label': 'Dorothy Anderson', 'value': 69, 'fill': '#35b2bd'},\n",
       " {'label': 'Adele Thompson', 'value': 63, 'fill': '#279c48'},\n",
       " {'label': 'Edith Bucio', 'value': 28, 'fill': '#3a98fa'},\n",
       " {'label': 'Larry Taylor', 'value': 82, 'fill': '#677ed9'},\n",
       " {'label': 'Betty Walker', 'value': 36, 'fill': '#a9788b'},\n",
       " {'label': 'Marla Stafford', 'value': 25, 'fill': '#1564d7'}]"
      ]
     },
     "execution_count": 41,
     "metadata": {},
     "output_type": "execute_result"
    }
   ],
   "source": [
    "### Generate data\n",
    "\n",
    "label_len = 10\n",
    "label = [names.get_full_name() for _ in range(label_len)]\n",
    "value = [random.randint(1, 100) for _ in range(label_len)]\n",
    "fill = [col_gen() for _ in range(label_len)]\n",
    "donut_df = pd.DataFrame({'label': label, 'value': value})\n",
    "label_fill_df = pd.DataFrame({'label': label, 'fill': fill})\n",
    "\n",
    "### Save data\n",
    "\n",
    "disk_engine = create_engine('sqlite:///charts_db.db')\n",
    "donut_df.to_sql('donut_data_table', disk_engine, if_exists='append')\n",
    "label_fill_df.to_sql('donut_fill_table', disk_engine, if_exists='append')\n",
    "\n",
    "### Get data\n",
    "\n",
    "data_df = pd.read_sql_query('SELECT * FROM donut_data_table',disk_engine)\n",
    "data_df = data_df.drop('index',axis= 1)\n",
    "\n",
    "fill_df = pd.read_sql_query('SELECT * FROM donut_fill_table', disk_engine)\n",
    "fill_df = fill_df.drop('index',axis= 1)\n",
    "\n",
    "\n",
    "### Parse data for chart\n",
    "\n",
    "response_payload = ((data_df.set_index('label')).join(fill_df.set_index('label'))).reset_index().to_dict('records')\n",
    "response_payload"
   ]
  },
  {
   "cell_type": "markdown",
   "metadata": {},
   "source": [
    "# Stacked Bar Chart\n",
    "\n",
    "\n",
    "* __Reference:__ https://www.geeksforgeeks.org/create-a-stacked-bar-chart-using-recharts-in-reactjs/"
   ]
  },
  {
   "cell_type": "code",
   "execution_count": 42,
   "metadata": {},
   "outputs": [
    {
     "data": {
      "text/plain": [
       "{'data': [{'label': 'Scott Alfaro', 'd': 90.42, 'z': 47.02, 'h': 84.86},\n",
       "  {'label': 'James Weber', 'd': 70.42, 'z': 29.18, 'h': 97.85},\n",
       "  {'label': 'Mary Carson', 'd': 76.83, 'z': 9.09, 'h': 17.14},\n",
       "  {'label': 'Johnny Herman', 'd': 31.47, 'z': 33.05, 'h': 27.51},\n",
       "  {'label': 'Kerry Goodwin', 'd': 17.16, 'z': 78.58, 'h': 84.95},\n",
       "  {'label': 'Mark Mertens', 'd': 48.38, 'z': 10.66, 'h': 77.51}],\n",
       " 'fill': [{'label': 'd', 'fill': '#bd4280'},\n",
       "  {'label': 'z', 'fill': '#45517b'},\n",
       "  {'label': 'h', 'fill': '#546b53'}]}"
      ]
     },
     "execution_count": 42,
     "metadata": {},
     "output_type": "execute_result"
    }
   ],
   "source": [
    "### Generate data\n",
    "n_label = 6\n",
    "n_var = 3\n",
    "label = [names.get_full_name() for _ in range(n_label)]\n",
    "var_collector = []\n",
    "data_collector = []\n",
    "cols_collector = []\n",
    "\n",
    "while len(set(var_collector))< n_var:\n",
    "    var_collector.append(random.choice(string.ascii_lowercase))\n",
    "    data_collector.append(np.random.uniform(1,100,n_label))\n",
    "    cols_collector.append(col_gen())\n",
    "\n",
    "data_df = pd.DataFrame(data_collector, index =var_collector, columns = label).T.reset_index().rename(columns = {\"index\":\"label\"}).round(2)\n",
    "fill_df = pd.DataFrame({'label': var_collector, 'fill': cols_collector})\n",
    "\n",
    "### Save data\n",
    "\n",
    "disk_engine = create_engine('sqlite:///charts_db.db')\n",
    "data_df.to_sql('stackedchart_data_table', disk_engine, if_exists='append')\n",
    "fill_df.to_sql('stackedchart_fill_table', disk_engine, if_exists='append')\n",
    "\n",
    "### Get data\n",
    "\n",
    "data_df = pd.read_sql_query('SELECT * FROM stackedchart_data_table',disk_engine)\n",
    "data_df = data_df.drop('index',axis= 1)\n",
    "\n",
    "fill_df = pd.read_sql_query('SELECT * FROM stackedchart_fill_table', disk_engine)\n",
    "fill_df = fill_df.drop('index',axis= 1)\n",
    "\n",
    "\n",
    "### Parse data for chart\n",
    "\n",
    "response_payload = {\"data\":data_df.to_dict('records'),\"fill\":fill_df.to_dict('records')}\n",
    "response_payload"
   ]
  }
 ],
 "metadata": {
  "interpreter": {
   "hash": "916dbcbb3f70747c44a77c7bcd40155683ae19c65e1c03b4aa3499c5328201f1"
  },
  "kernelspec": {
   "display_name": "Python 3.8.10 64-bit",
   "language": "python",
   "name": "python3"
  },
  "language_info": {
   "codemirror_mode": {
    "name": "ipython",
    "version": 3
   },
   "file_extension": ".py",
   "mimetype": "text/x-python",
   "name": "python",
   "nbconvert_exporter": "python",
   "pygments_lexer": "ipython3",
   "version": "3.8.10"
  },
  "orig_nbformat": 4
 },
 "nbformat": 4,
 "nbformat_minor": 2
}
