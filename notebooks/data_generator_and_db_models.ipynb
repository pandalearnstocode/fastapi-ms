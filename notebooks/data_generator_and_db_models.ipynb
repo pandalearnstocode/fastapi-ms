{
 "cells": [
  {
   "cell_type": "code",
   "execution_count": 1,
   "metadata": {},
   "outputs": [],
   "source": [
    "from sqlalchemy import create_engine\n",
    "import random\n",
    "import pandas as pd\n",
    "import numpy as np\n",
    "import names\n",
    "import string\n",
    "\n",
    "### Ufuncs\n",
    "\n",
    "def _clamp(x):\n",
    "    return max(0, min(x, 255))\n",
    "\n",
    "\n",
    "def col_gen():\n",
    "    return \"#{0:02x}{1:02x}{2:02x}\".format(\n",
    "        _clamp(random.randint(10, 255)),\n",
    "        _clamp(random.randint(10, 255)),\n",
    "        _clamp(random.randint(10, 255)),\n",
    "    )"
   ]
  },
  {
   "cell_type": "markdown",
   "metadata": {},
   "source": [
    "## Donut chart\n",
    "\n",
    "* Two tables: data and fill\n",
    "* In data table it will have two columns: label and value\n",
    "* In fill table it will have two columns: label and color\n",
    "* As next step we need to have a drop down menu which will filter the data which has to be shown in the chart and in the backend we will send a list of key value pair where value will be of the same format as it is for a single selection of the drop down menu.\n",
    "\n",
    "\n",
    "* __Reference:__ https://codesandbox.io/s/6hr9o"
   ]
  },
  {
   "cell_type": "code",
   "execution_count": 2,
   "metadata": {},
   "outputs": [
    {
     "data": {
      "text/plain": [
       "[{'label': 'Leslie Wright', 'value': 57, 'fill': '#6e2bec'},\n",
       " {'label': 'Wendy Tucker', 'value': 4, 'fill': '#aafc5c'},\n",
       " {'label': 'Florence Santos', 'value': 98, 'fill': '#a8facc'},\n",
       " {'label': 'Salvador Haight', 'value': 77, 'fill': '#3280d0'},\n",
       " {'label': 'Armand Edmunds', 'value': 87, 'fill': '#b76ec5'},\n",
       " {'label': 'Thomas Mensalvas', 'value': 85, 'fill': '#a88adf'},\n",
       " {'label': 'Dolores Lyman', 'value': 50, 'fill': '#271033'},\n",
       " {'label': 'Von Garcia', 'value': 62, 'fill': '#1d5747'},\n",
       " {'label': 'Sheila Guidry', 'value': 81, 'fill': '#16b46c'},\n",
       " {'label': 'Noel Portillo', 'value': 17, 'fill': '#8e6b0b'}]"
      ]
     },
     "execution_count": 2,
     "metadata": {},
     "output_type": "execute_result"
    }
   ],
   "source": [
    "### Generate data\n",
    "\n",
    "label_len = 10\n",
    "label = [names.get_full_name() for _ in range(label_len)]\n",
    "value = [random.randint(1, 100) for _ in range(label_len)]\n",
    "fill = [col_gen() for _ in range(label_len)]\n",
    "donut_df = pd.DataFrame({'label': label, 'value': value})\n",
    "label_fill_df = pd.DataFrame({'label': label, 'fill': fill})\n",
    "\n",
    "### Save data\n",
    "\n",
    "disk_engine = create_engine('sqlite:///charts_db.db')\n",
    "donut_df.to_sql('donut_data_table', disk_engine, if_exists='append')\n",
    "label_fill_df.to_sql('donut_fill_table', disk_engine, if_exists='append')\n",
    "\n",
    "### Get data\n",
    "\n",
    "data_df = pd.read_sql_query('SELECT * FROM donut_data_table',disk_engine)\n",
    "data_df = data_df.drop('index',axis= 1)\n",
    "\n",
    "fill_df = pd.read_sql_query('SELECT * FROM donut_fill_table', disk_engine)\n",
    "fill_df = fill_df.drop('index',axis= 1)\n",
    "\n",
    "\n",
    "### Parse data for chart\n",
    "\n",
    "response_payload = ((data_df.set_index('label')).join(fill_df.set_index('label'))).reset_index().to_dict('records')\n",
    "response_payload"
   ]
  },
  {
   "cell_type": "markdown",
   "metadata": {},
   "source": [
    "# Stacked Bar Chart\n",
    "\n",
    "\n",
    "* __Reference:__ https://www.geeksforgeeks.org/create-a-stacked-bar-chart-using-recharts-in-reactjs/"
   ]
  },
  {
   "cell_type": "code",
   "execution_count": 3,
   "metadata": {},
   "outputs": [
    {
     "data": {
      "text/plain": [
       "{'data': [{'label': 'Callie Meyer', 'g': 82.4, 'k': 51.22, 'h': 50.2},\n",
       "  {'label': 'Jason Finch', 'g': 93.58, 'k': 84.45, 'h': 93.3},\n",
       "  {'label': 'Anthony Wapp', 'g': 21.85, 'k': 90.22, 'h': 10.74},\n",
       "  {'label': 'Gary Worden', 'g': 8.14, 'k': 95.1, 'h': 38.31},\n",
       "  {'label': 'Brian Terrell', 'g': 58.67, 'k': 77.82, 'h': 3.82},\n",
       "  {'label': 'Robert Robinson', 'g': 2.31, 'k': 84.31, 'h': 12.81}],\n",
       " 'fill': [{'label': 'g', 'fill': '#79bc91'},\n",
       "  {'label': 'k', 'fill': '#28cd52'},\n",
       "  {'label': 'h', 'fill': '#56fbd5'}]}"
      ]
     },
     "execution_count": 3,
     "metadata": {},
     "output_type": "execute_result"
    }
   ],
   "source": [
    "### Generate data\n",
    "n_label = 6\n",
    "n_var = 3\n",
    "label = [names.get_full_name() for _ in range(n_label)]\n",
    "var_collector = []\n",
    "data_collector = []\n",
    "cols_collector = []\n",
    "\n",
    "while len(set(var_collector))< n_var:\n",
    "    var_collector.append(random.choice(string.ascii_lowercase))\n",
    "    data_collector.append(np.random.uniform(1,100,n_label))\n",
    "    cols_collector.append(col_gen())\n",
    "\n",
    "data_df = pd.DataFrame(data_collector, index =var_collector, columns = label).T.reset_index().rename(columns = {\"index\":\"label\"}).round(2)\n",
    "fill_df = pd.DataFrame({'label': var_collector, 'fill': cols_collector})\n",
    "\n",
    "### Save data\n",
    "\n",
    "disk_engine = create_engine('sqlite:///charts_db.db')\n",
    "data_df.to_sql('stackedchart_data_table', disk_engine, if_exists='append')\n",
    "fill_df.to_sql('stackedchart_fill_table', disk_engine, if_exists='append')\n",
    "\n",
    "### Get data\n",
    "\n",
    "data_df = pd.read_sql_query('SELECT * FROM stackedchart_data_table',disk_engine)\n",
    "data_df = data_df.drop('index',axis= 1)\n",
    "\n",
    "fill_df = pd.read_sql_query('SELECT * FROM stackedchart_fill_table', disk_engine)\n",
    "fill_df = fill_df.drop('index',axis= 1)\n",
    "\n",
    "\n",
    "### Parse data for chart\n",
    "\n",
    "response_payload = {\"data\":data_df.to_dict('records'),\"fill\":fill_df.to_dict('records')}\n",
    "response_payload"
   ]
  },
  {
   "cell_type": "markdown",
   "metadata": {},
   "source": [
    "# Line chart\n",
    "\n",
    "* __Reference:__ https://www.geeksforgeeks.org/create-a-line-chart-using-recharts-in-reactjs/"
   ]
  },
  {
   "cell_type": "code",
   "execution_count": 4,
   "metadata": {},
   "outputs": [
    {
     "data": {
      "text/plain": [
       "{'data': [{'label': 'David Cathcart', 'y': 27.4, 'p': 94.8, 'b': 46.82},\n",
       "  {'label': 'Gertrude Kong', 'y': 84.73, 'p': 55.94, 'b': 50.13},\n",
       "  {'label': 'Bruce Clark', 'y': 70.89, 'p': 71.53, 'b': 24.08},\n",
       "  {'label': 'Jessica Moore', 'y': 88.44, 'p': 53.7, 'b': 58.56},\n",
       "  {'label': 'Joshua Hollingsworth', 'y': 93.72, 'p': 63.2, 'b': 26.53},\n",
       "  {'label': 'Gwendolyn Saunders', 'y': 96.51, 'p': 41.38, 'b': 28.34}],\n",
       " 'fill': [{'label': 'y', 'fill': '#eb7d77'},\n",
       "  {'label': 'p', 'fill': '#c8d926'},\n",
       "  {'label': 'b', 'fill': '#bede8a'}]}"
      ]
     },
     "execution_count": 4,
     "metadata": {},
     "output_type": "execute_result"
    }
   ],
   "source": [
    "### Generate data\n",
    "n_label = 6\n",
    "n_var = 3\n",
    "label = [names.get_full_name() for _ in range(n_label)]\n",
    "var_collector = []\n",
    "data_collector = []\n",
    "cols_collector = []\n",
    "\n",
    "while len(set(var_collector))< n_var:\n",
    "    var_collector.append(random.choice(string.ascii_lowercase))\n",
    "    data_collector.append(np.random.uniform(1,100,n_label))\n",
    "    cols_collector.append(col_gen())\n",
    "\n",
    "data_df = pd.DataFrame(data_collector, index =var_collector, columns = label).T.reset_index().rename(columns = {\"index\":\"label\"}).round(2)\n",
    "fill_df = pd.DataFrame({'label': var_collector, 'fill': cols_collector})\n",
    "\n",
    "### Save data\n",
    "\n",
    "disk_engine = create_engine('sqlite:///charts_db.db')\n",
    "data_df.to_sql('linechart_data_table', disk_engine, if_exists='append')\n",
    "fill_df.to_sql('linechart_fill_table', disk_engine, if_exists='append')\n",
    "\n",
    "### Get data\n",
    "\n",
    "data_df = pd.read_sql_query('SELECT * FROM linechart_data_table',disk_engine)\n",
    "data_df = data_df.drop('index',axis= 1)\n",
    "\n",
    "fill_df = pd.read_sql_query('SELECT * FROM linechart_fill_table', disk_engine)\n",
    "fill_df = fill_df.drop('index',axis= 1)\n",
    "\n",
    "\n",
    "### Parse data for chart\n",
    "\n",
    "response_payload = {\"data\":data_df.to_dict('records'),\"fill\":fill_df.to_dict('records')}\n",
    "response_payload"
   ]
  },
  {
   "cell_type": "markdown",
   "metadata": {},
   "source": [
    "# Area chart\n",
    "\n",
    "* __Reference:__ https://www.geeksforgeeks.org/create-a-stacked-area-chart-using-recharts-in-reactjs/"
   ]
  },
  {
   "cell_type": "code",
   "execution_count": 5,
   "metadata": {},
   "outputs": [
    {
     "data": {
      "text/plain": [
       "{'data': [{'label': 'Richard Dorich', 'v': 92.56, 'q': 6.95, 'd': 64.77},\n",
       "  {'label': 'Donald Brown', 'v': 40.39, 'q': 42.4, 'd': 52.95},\n",
       "  {'label': 'Victoria Perie', 'v': 21.28, 'q': 73.99, 'd': 24.33},\n",
       "  {'label': 'Juan Munroe', 'v': 49.39, 'q': 47.37, 'd': 91.53},\n",
       "  {'label': 'Monica Montejo', 'v': 47.47, 'q': 69.79, 'd': 58.1},\n",
       "  {'label': 'Jay Harrell', 'v': 65.05, 'q': 5.0, 'd': 51.29}],\n",
       " 'fill': [{'label': 'v', 'fill': '#580fab'},\n",
       "  {'label': 'q', 'fill': '#28bb2a'},\n",
       "  {'label': 'd', 'fill': '#b4d2f2'}]}"
      ]
     },
     "execution_count": 5,
     "metadata": {},
     "output_type": "execute_result"
    }
   ],
   "source": [
    "### Generate data\n",
    "n_label = 6\n",
    "n_var = 3\n",
    "label = [names.get_full_name() for _ in range(n_label)]\n",
    "var_collector = []\n",
    "data_collector = []\n",
    "cols_collector = []\n",
    "\n",
    "while len(set(var_collector))< n_var:\n",
    "    var_collector.append(random.choice(string.ascii_lowercase))\n",
    "    data_collector.append(np.random.uniform(1,100,n_label))\n",
    "    cols_collector.append(col_gen())\n",
    "\n",
    "data_df = pd.DataFrame(data_collector, index =var_collector, columns = label).T.reset_index().rename(columns = {\"index\":\"label\"}).round(2)\n",
    "fill_df = pd.DataFrame({'label': var_collector, 'fill': cols_collector})\n",
    "\n",
    "### Save data\n",
    "\n",
    "disk_engine = create_engine('sqlite:///charts_db.db')\n",
    "data_df.to_sql('areachart_data_table', disk_engine, if_exists='append')\n",
    "fill_df.to_sql('areachart_fill_table', disk_engine, if_exists='append')\n",
    "\n",
    "### Get data\n",
    "\n",
    "data_df = pd.read_sql_query('SELECT * FROM areachart_data_table',disk_engine)\n",
    "data_df = data_df.drop('index',axis= 1)\n",
    "\n",
    "fill_df = pd.read_sql_query('SELECT * FROM areachart_fill_table', disk_engine)\n",
    "fill_df = fill_df.drop('index',axis= 1)\n",
    "\n",
    "\n",
    "### Parse data for chart\n",
    "\n",
    "response_payload = {\"data\":data_df.to_dict('records'),\"fill\":fill_df.to_dict('records')}\n",
    "response_payload"
   ]
  },
  {
   "cell_type": "markdown",
   "metadata": {},
   "source": [
    "# Scatter plot\n",
    "\n",
    "* __Reference:__ https://www.geeksforgeeks.org/create-a-scatter-chart-using-recharts-in-reactjs/"
   ]
  },
  {
   "cell_type": "code",
   "execution_count": 6,
   "metadata": {},
   "outputs": [
    {
     "data": {
      "text/plain": [
       "{'data': [{'i': 57.03, 'v': 63.04},\n",
       "  {'i': 47.35, 'v': 67.05},\n",
       "  {'i': 32.9, 'v': 32.77},\n",
       "  {'i': 4.84, 'v': 56.96},\n",
       "  {'i': 96.28, 'v': 56.58},\n",
       "  {'i': 82.59, 'v': 76.8}],\n",
       " 'fill': {'i': '#ad9936', 'v': '#0a5440'}}"
      ]
     },
     "execution_count": 6,
     "metadata": {},
     "output_type": "execute_result"
    }
   ],
   "source": [
    "### Generate data\n",
    "n_label = 6\n",
    "n_var = 2\n",
    "var_collector = []\n",
    "data_collector = []\n",
    "cols_collector = []\n",
    "\n",
    "while len(set(var_collector)) < n_var:\n",
    "    var_collector.append(random.choice(string.ascii_lowercase))\n",
    "    data_collector.append(np.random.uniform(1,100,n_label))\n",
    "    cols_collector.append(col_gen())\n",
    "\n",
    "\n",
    "data_df = pd.DataFrame(data_collector, index =var_collector).T.round(2)\n",
    "fill_df = pd.DataFrame({'label': var_collector, 'fill': cols_collector})\n",
    "\n",
    "\n",
    "# ### Save data\n",
    "\n",
    "disk_engine = create_engine('sqlite:///charts_db.db')\n",
    "data_df.to_sql('scatterplot_data_table', disk_engine, if_exists='append')\n",
    "fill_df.to_sql('scatterplot_fill_table', disk_engine, if_exists='append')\n",
    "\n",
    "# ### Get data\n",
    "\n",
    "data_df = pd.read_sql_query('SELECT * FROM scatterplot_data_table',disk_engine)\n",
    "data_df = data_df.drop('index',axis= 1)\n",
    "\n",
    "fill_df = pd.read_sql_query('SELECT * FROM scatterplot_fill_table', disk_engine)\n",
    "fill_df = fill_df.drop('index',axis= 1)\n",
    "\n",
    "\n",
    "# ### Parse data for chart\n",
    "\n",
    "response_payload = {\"data\":data_df.to_dict('records'),\"fill\":dict(zip(fill_df['label'].tolist(), fill_df['fill'].tolist()))}\n",
    "response_payload"
   ]
  },
  {
   "cell_type": "code",
   "execution_count": null,
   "metadata": {},
   "outputs": [],
   "source": []
  },
  {
   "cell_type": "code",
   "execution_count": null,
   "metadata": {},
   "outputs": [],
   "source": []
  }
 ],
 "metadata": {
  "interpreter": {
   "hash": "916dbcbb3f70747c44a77c7bcd40155683ae19c65e1c03b4aa3499c5328201f1"
  },
  "kernelspec": {
   "display_name": "Python 3.8.10 64-bit",
   "language": "python",
   "name": "python3"
  },
  "language_info": {
   "codemirror_mode": {
    "name": "ipython",
    "version": 3
   },
   "file_extension": ".py",
   "mimetype": "text/x-python",
   "name": "python",
   "nbconvert_exporter": "python",
   "pygments_lexer": "ipython3",
   "version": "3.8.10"
  },
  "orig_nbformat": 4
 },
 "nbformat": 4,
 "nbformat_minor": 2
}
