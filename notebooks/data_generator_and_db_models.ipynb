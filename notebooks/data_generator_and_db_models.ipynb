{
 "cells": [
  {
   "cell_type": "code",
   "execution_count": 9,
   "metadata": {},
   "outputs": [],
   "source": [
    "from sqlalchemy import create_engine\n",
    "import random\n",
    "import pandas as pd\n",
    "import numpy as np\n",
    "import names\n",
    "\n",
    "### Ufuncs\n",
    "\n",
    "def _clamp(x):\n",
    "    return max(0, min(x, 255))\n",
    "\n",
    "\n",
    "def col_gen():\n",
    "    return \"#{0:02x}{1:02x}{2:02x}\".format(\n",
    "        _clamp(random.randint(10, 255)),\n",
    "        _clamp(random.randint(10, 255)),\n",
    "        _clamp(random.randint(10, 255)),\n",
    "    )\n",
    "\n"
   ]
  },
  {
   "cell_type": "markdown",
   "metadata": {},
   "source": [
    "## Donut chart\n",
    "\n",
    "* Two tables: data and fill\n",
    "* In data table it will have two columns: label and value\n",
    "* In fill table it will have two columns: label and color\n",
    "* As next step we need to have a drop down menu which will filter the data which has to be shown in the chart and in the backend we will send a list of key value pair where value will be of the same format as it is for a single selection of the drop down menu.\n",
    "\n",
    "\n",
    "* __Reference:__ https://codesandbox.io/s/6hr9o"
   ]
  },
  {
   "cell_type": "code",
   "execution_count": 19,
   "metadata": {},
   "outputs": [
    {
     "data": {
      "text/plain": [
       "[{'label': 'Antonia West', 'value': 96, 'fill': '#d695db'},\n",
       " {'label': 'George Williams', 'value': 93, 'fill': '#91671b'},\n",
       " {'label': 'Maria Browning', 'value': 28, 'fill': '#cfa2d6'},\n",
       " {'label': 'Rick Glass', 'value': 79, 'fill': '#d162fb'},\n",
       " {'label': 'Brian Grainger', 'value': 82, 'fill': '#31dc68'},\n",
       " {'label': 'Carol Gustaveson', 'value': 31, 'fill': '#cafbbe'},\n",
       " {'label': 'Robert Schwendinger', 'value': 42, 'fill': '#355558'},\n",
       " {'label': 'Jose Jones', 'value': 16, 'fill': '#a99bee'},\n",
       " {'label': 'Anthony Cockrell', 'value': 91, 'fill': '#54a5a3'},\n",
       " {'label': 'Kenneth Jones', 'value': 23, 'fill': '#7e1e13'}]"
      ]
     },
     "execution_count": 19,
     "metadata": {},
     "output_type": "execute_result"
    }
   ],
   "source": [
    "### Generate data\n",
    "\n",
    "label_len = 10\n",
    "label = [names.get_full_name() for _ in range(label_len)]\n",
    "value = [random.randint(1, 100) for _ in range(label_len)]\n",
    "fill = [col_gen() for _ in range(label_len)]\n",
    "donut_df = pd.DataFrame({'label': label, 'value': value})\n",
    "label_fill_df = pd.DataFrame({'label': label, 'fill': fill})\n",
    "\n",
    "### Save data\n",
    "\n",
    "disk_engine = create_engine('sqlite:///charts_db.db')\n",
    "donut_df.to_sql('donut_data_table', disk_engine, if_exists='append')\n",
    "label_fill_df.to_sql('donut_fill_table', disk_engine, if_exists='append')\n",
    "\n",
    "### Get data\n",
    "\n",
    "data_df = pd.read_sql_query('SELECT * FROM donut_data_table',disk_engine)\n",
    "data_df = data_df.drop('index',axis= 1)\n",
    "\n",
    "fill_df = pd.read_sql_query('SELECT * FROM donut_fill_table', disk_engine)\n",
    "fill_df = fill_df.drop('index',axis= 1)\n",
    "\n",
    "\n",
    "### Parse data for chart\n",
    "\n",
    "response_payload = ((data_df.set_index('label')).join(fill_df.set_index('label'))).reset_index().to_dict('records')\n",
    "response_payload"
   ]
  },
  {
   "cell_type": "code",
   "execution_count": null,
   "metadata": {},
   "outputs": [],
   "source": []
  }
 ],
 "metadata": {
  "interpreter": {
   "hash": "916dbcbb3f70747c44a77c7bcd40155683ae19c65e1c03b4aa3499c5328201f1"
  },
  "kernelspec": {
   "display_name": "Python 3.8.10 64-bit",
   "language": "python",
   "name": "python3"
  },
  "language_info": {
   "codemirror_mode": {
    "name": "ipython",
    "version": 3
   },
   "file_extension": ".py",
   "mimetype": "text/x-python",
   "name": "python",
   "nbconvert_exporter": "python",
   "pygments_lexer": "ipython3",
   "version": "3.8.10"
  },
  "orig_nbformat": 4
 },
 "nbformat": 4,
 "nbformat_minor": 2
}
