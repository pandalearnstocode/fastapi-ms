{
 "cells": [
  {
   "cell_type": "code",
   "execution_count": 65,
   "metadata": {},
   "outputs": [],
   "source": [
    "import pandas as pd\n",
    "import names\n",
    "# payload = [\n",
    "#   { \"name\": \"A\", \"x\": 12, \"y\": 23, \"z\": 122 },\n",
    "#   { \"name\": \"B\", \"x\": 22, \"y\": 3, \"z\": 73 },\n",
    "#   { \"name\": \"C\", \"x\": 13, \"y\": 15, \"z\": 32 },\n",
    "#   { \"name\": \"D\", \"x\": 44, \"y\": 35, \"z\": 23 },\n",
    "#   { \"name\": \"E\", \"x\": 35, \"y\": 45, \"z\": 20 },\n",
    "#   { \"name\": \"F\", \"x\": 62, \"y\": 25, \"z\": 29 },\n",
    "#   { \"name\": \"G\", \"x\": 37, \"y\": 17, \"z\": 61 },\n",
    "#   { \"name\": \"H\", \"x\": 28, \"y\": 32, \"z\": 45 },\n",
    "#   { \"name\": \"I\", \"x\": 19, \"y\": 43, \"z\": 93 }\n",
    "# ]"
   ]
  },
  {
   "cell_type": "code",
   "execution_count": 66,
   "metadata": {},
   "outputs": [],
   "source": [
    "# df = pd.DataFrame(payload)"
   ]
  },
  {
   "cell_type": "code",
   "execution_count": 67,
   "metadata": {},
   "outputs": [],
   "source": [
    "# df"
   ]
  },
  {
   "cell_type": "code",
   "execution_count": 68,
   "metadata": {},
   "outputs": [],
   "source": [
    "# df.to_dict('records')"
   ]
  },
  {
   "cell_type": "code",
   "execution_count": 73,
   "metadata": {},
   "outputs": [],
   "source": [
    "import random\n",
    "import numpy as np\n",
    "import pandas as pd\n",
    "import names\n",
    "\n",
    "\n",
    "def _clamp(x):\n",
    "    return max(0, min(x, 255))\n",
    "\n",
    "def col_gen():\n",
    "    return \"#{0:02x}{1:02x}{2:02x}\".format(_clamp(random.randint(10, 255)), _clamp(random.randint(10, 255)), _clamp(random.randint(10, 255)),)\n",
    "\n",
    "def _bar_payload_generator(type = \"pct\"):\n",
    "    # type = \"pct\" or \"abs\"\n",
    "    label_len = random.randint(1, 10)\n",
    "    x_max = random.randint(1, 100)\n",
    "    y_max = random.randint(1, 100)\n",
    "    df = pd.DataFrame({\"label\":[names.get_full_name() for _ in range(label_len)], \"X\":np.random.uniform(0, x_max, label_len), \"Y\":np.random.uniform(0, y_max, label_len)})\n",
    "    colors = [col_gen() for _ in range(df.shape[1] - 1)]\n",
    "    df_cols = df.columns.tolist()\n",
    "    df_cols.remove('label')\n",
    "    df['pct_X'] = df['X']/df[['X', 'Y']].sum(1)\n",
    "    df['pct_Y'] = df['Y']/df[['X', 'Y']].sum(1)\n",
    "    df = df.round(2)\n",
    "    colors_df = pd.DataFrame({\"label\": df_cols, \"fill\":colors})\n",
    "    if type == \"pct\":\n",
    "        df_cols = [\"pct_\"+ col for col in df_cols]\n",
    "        colors_df = pd.DataFrame({\"label\": df_cols, \"fill\":colors})\n",
    "        return {\"data\":df[['pct_X', 'pct_Y']].to_dict('records'), \"fill\":colors_df.to_dict('records'),\"value_type\":type,\"chart_type\":\"bar\"}\n",
    "    if type == \"abs\":\n",
    "        return {\"data\":df[['X', 'Y']].to_dict('records'), \"fill\":colors_df.to_dict('records'),\"value_type\":type,\"chart_type\":\"bar\"}\n",
    "\n",
    "def _donut_payload_generator(type = \"pct\"):\n",
    "    label_len = random.randint(1, 10)\n",
    "    x_max = random.randint(1, 100)\n",
    "    df = pd.DataFrame({\"label\":[names.get_full_name() for _ in range(label_len)], \"value\":np.random.uniform(0, x_max, label_len)})\n",
    "    if type == \"pct\":\n",
    "        df['value'] = df['value']/df['value'].sum()\n",
    "    df = df.round(2)\n",
    "    colors = [col_gen() for _ in range(df['label'].size)]\n",
    "    colors_df = pd.DataFrame({\"label\": df['label'].tolist(), \"fill\":colors})\n",
    "    return {\"data\":df.to_dict('records'), \"fill\":colors_df.to_dict('records'),\"value_type\":type,\"chart_type\":\"donut\"}\n",
    "\n",
    "def _line_payload_generator():\n",
    "    label_len = random.randint(1, 10)\n",
    "    x_max = random.randint(1, 100)\n",
    "    y_max = random.randint(1, 100)\n",
    "    df = pd.DataFrame({\"label\":[names.get_full_name() for _ in range(label_len)], \"X\":np.random.uniform(0, x_max, label_len), \"Y\":np.random.uniform(0, y_max, label_len)})\n",
    "    df = df.round(2)\n",
    "    colors = [col_gen() for _ in range(df.shape[1] - 1)]\n",
    "    df_cols = df.columns.tolist()\n",
    "    df_cols.remove('label')\n",
    "    colors_df = pd.DataFrame({\"label\": df_cols, \"fill\":colors})\n",
    "    return {\"data\":df.to_dict('records'), \"fill\":colors_df.to_dict('records'), \"value_type\":\"abs\",\"chart_type\":\"line\"}\n",
    "\n"
   ]
  },
  {
   "cell_type": "code",
   "execution_count": 81,
   "metadata": {},
   "outputs": [
    {
     "data": {
      "text/plain": [
       "{'data': [{'pct_X': 0.87, 'pct_Y': 0.13}],\n",
       " 'fill': [{'label': 'pct_X', 'fill': '#693683'},\n",
       "  {'label': 'pct_Y', 'fill': '#7b8afe'}],\n",
       " 'value_type': 'pct',\n",
       " 'chart_type': 'bar'}"
      ]
     },
     "execution_count": 81,
     "metadata": {},
     "output_type": "execute_result"
    }
   ],
   "source": [
    "_bar_payload_generator()"
   ]
  },
  {
   "cell_type": "code",
   "execution_count": 82,
   "metadata": {},
   "outputs": [
    {
     "data": {
      "text/plain": [
       "{'data': [{'label': 'Luis Morgan', 'value': 1.0}],\n",
       " 'fill': [{'label': 'Luis Morgan', 'fill': '#a0411e'}],\n",
       " 'value_type': 'pct',\n",
       " 'chart_type': 'donut'}"
      ]
     },
     "execution_count": 82,
     "metadata": {},
     "output_type": "execute_result"
    }
   ],
   "source": [
    "\n",
    "_donut_payload_generator()\n"
   ]
  },
  {
   "cell_type": "code",
   "execution_count": 83,
   "metadata": {},
   "outputs": [
    {
     "data": {
      "text/plain": [
       "{'data': [{'label': 'Maureen Cullen', 'X': 7.95, 'Y': 27.42},\n",
       "  {'label': 'Adrian Madison', 'X': 21.76, 'Y': 38.51},\n",
       "  {'label': 'Joshua Wilcoxen', 'X': 21.72, 'Y': 39.11},\n",
       "  {'label': 'Joe Grantham', 'X': 21.33, 'Y': 48.28},\n",
       "  {'label': 'Janae Brown', 'X': 2.99, 'Y': 10.49},\n",
       "  {'label': 'Paul Fulford', 'X': 8.8, 'Y': 38.8},\n",
       "  {'label': 'John Newman', 'X': 23.24, 'Y': 50.6}],\n",
       " 'fill': [{'label': 'X', 'fill': '#d05dde'},\n",
       "  {'label': 'Y', 'fill': '#5ca3ff'}],\n",
       " 'value_type': 'abs',\n",
       " 'chart_type': 'line'}"
      ]
     },
     "execution_count": 83,
     "metadata": {},
     "output_type": "execute_result"
    }
   ],
   "source": [
    "_line_payload_generator()"
   ]
  },
  {
   "cell_type": "code",
   "execution_count": 84,
   "metadata": {},
   "outputs": [],
   "source": [
    "raw_data = [\n",
    "{ \"bin\": \"1\", \"name\": \"1 - 2\", \"freq\": 6 },\n",
    "{ \"bin\": \"2\", \"name\": \"2 - 3\", \"freq\": 24 },\n",
    "{ \"bin\": \"3\", \"name\": \"3 - 4\", \"freq\": 20 },\n",
    "{ \"bin\": \"4\", \"name\": \"4 - 5\", \"freq\": 42 },\n",
    "{ \"bin\": \"5\", \"name\": \"5 - 6\", \"freq\": 20 }\n",
    "]"
   ]
  },
  {
   "cell_type": "code",
   "execution_count": 85,
   "metadata": {},
   "outputs": [
    {
     "data": {
      "text/html": [
       "<div>\n",
       "<style scoped>\n",
       "    .dataframe tbody tr th:only-of-type {\n",
       "        vertical-align: middle;\n",
       "    }\n",
       "\n",
       "    .dataframe tbody tr th {\n",
       "        vertical-align: top;\n",
       "    }\n",
       "\n",
       "    .dataframe thead th {\n",
       "        text-align: right;\n",
       "    }\n",
       "</style>\n",
       "<table border=\"1\" class=\"dataframe\">\n",
       "  <thead>\n",
       "    <tr style=\"text-align: right;\">\n",
       "      <th></th>\n",
       "      <th>bin</th>\n",
       "      <th>name</th>\n",
       "      <th>freq</th>\n",
       "    </tr>\n",
       "  </thead>\n",
       "  <tbody>\n",
       "    <tr>\n",
       "      <th>0</th>\n",
       "      <td>1</td>\n",
       "      <td>1 - 2</td>\n",
       "      <td>6</td>\n",
       "    </tr>\n",
       "    <tr>\n",
       "      <th>1</th>\n",
       "      <td>2</td>\n",
       "      <td>2 - 3</td>\n",
       "      <td>24</td>\n",
       "    </tr>\n",
       "    <tr>\n",
       "      <th>2</th>\n",
       "      <td>3</td>\n",
       "      <td>3 - 4</td>\n",
       "      <td>20</td>\n",
       "    </tr>\n",
       "    <tr>\n",
       "      <th>3</th>\n",
       "      <td>4</td>\n",
       "      <td>4 - 5</td>\n",
       "      <td>42</td>\n",
       "    </tr>\n",
       "    <tr>\n",
       "      <th>4</th>\n",
       "      <td>5</td>\n",
       "      <td>5 - 6</td>\n",
       "      <td>20</td>\n",
       "    </tr>\n",
       "  </tbody>\n",
       "</table>\n",
       "</div>"
      ],
      "text/plain": [
       "  bin   name  freq\n",
       "0   1  1 - 2     6\n",
       "1   2  2 - 3    24\n",
       "2   3  3 - 4    20\n",
       "3   4  4 - 5    42\n",
       "4   5  5 - 6    20"
      ]
     },
     "execution_count": 85,
     "metadata": {},
     "output_type": "execute_result"
    }
   ],
   "source": [
    "pd.DataFrame(raw_data)"
   ]
  },
  {
   "cell_type": "code",
   "execution_count": null,
   "metadata": {},
   "outputs": [],
   "source": []
  }
 ],
 "metadata": {
  "interpreter": {
   "hash": "916dbcbb3f70747c44a77c7bcd40155683ae19c65e1c03b4aa3499c5328201f1"
  },
  "kernelspec": {
   "display_name": "Python 3.8.10 64-bit",
   "language": "python",
   "name": "python3"
  },
  "language_info": {
   "codemirror_mode": {
    "name": "ipython",
    "version": 3
   },
   "file_extension": ".py",
   "mimetype": "text/x-python",
   "name": "python",
   "nbconvert_exporter": "python",
   "pygments_lexer": "ipython3",
   "version": "3.8.10"
  },
  "orig_nbformat": 4
 },
 "nbformat": 4,
 "nbformat_minor": 2
}
