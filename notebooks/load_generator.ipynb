{
 "cells": [
  {
   "cell_type": "code",
   "execution_count": 65,
   "metadata": {},
   "outputs": [],
   "source": [
    "import pandas as pd\n",
    "import names\n",
    "# payload = [\n",
    "#   { \"name\": \"A\", \"x\": 12, \"y\": 23, \"z\": 122 },\n",
    "#   { \"name\": \"B\", \"x\": 22, \"y\": 3, \"z\": 73 },\n",
    "#   { \"name\": \"C\", \"x\": 13, \"y\": 15, \"z\": 32 },\n",
    "#   { \"name\": \"D\", \"x\": 44, \"y\": 35, \"z\": 23 },\n",
    "#   { \"name\": \"E\", \"x\": 35, \"y\": 45, \"z\": 20 },\n",
    "#   { \"name\": \"F\", \"x\": 62, \"y\": 25, \"z\": 29 },\n",
    "#   { \"name\": \"G\", \"x\": 37, \"y\": 17, \"z\": 61 },\n",
    "#   { \"name\": \"H\", \"x\": 28, \"y\": 32, \"z\": 45 },\n",
    "#   { \"name\": \"I\", \"x\": 19, \"y\": 43, \"z\": 93 }\n",
    "# ]"
   ]
  },
  {
   "cell_type": "code",
   "execution_count": 66,
   "metadata": {},
   "outputs": [],
   "source": [
    "# df = pd.DataFrame(payload)"
   ]
  },
  {
   "cell_type": "code",
   "execution_count": 67,
   "metadata": {},
   "outputs": [],
   "source": [
    "# df"
   ]
  },
  {
   "cell_type": "code",
   "execution_count": 68,
   "metadata": {},
   "outputs": [],
   "source": [
    "# df.to_dict('records')"
   ]
  },
  {
   "cell_type": "code",
   "execution_count": 73,
   "metadata": {},
   "outputs": [],
   "source": [
    "import random\n",
    "import numpy as np\n",
    "import pandas as pd\n",
    "import names\n",
    "\n",
    "\n",
    "def _clamp(x):\n",
    "    return max(0, min(x, 255))\n",
    "\n",
    "def col_gen():\n",
    "    return \"#{0:02x}{1:02x}{2:02x}\".format(_clamp(random.randint(10, 255)), _clamp(random.randint(10, 255)), _clamp(random.randint(10, 255)),)\n",
    "\n",
    "def _bar_payload_generator(type = \"pct\"):\n",
    "    # type = \"pct\" or \"abs\"\n",
    "    label_len = random.randint(1, 10)\n",
    "    x_max = random.randint(1, 100)\n",
    "    y_max = random.randint(1, 100)\n",
    "    df = pd.DataFrame({\"label\":[names.get_full_name() for _ in range(label_len)], \"X\":np.random.uniform(0, x_max, label_len), \"Y\":np.random.uniform(0, y_max, label_len)})\n",
    "    colors = [col_gen() for _ in range(df.shape[1] - 1)]\n",
    "    df_cols = df.columns.tolist()\n",
    "    df_cols.remove('label')\n",
    "    df['pct_X'] = df['X']/df[['X', 'Y']].sum(1)\n",
    "    df['pct_Y'] = df['Y']/df[['X', 'Y']].sum(1)\n",
    "    df = df.round(2)\n",
    "    colors_df = pd.DataFrame({\"label\": df_cols, \"fill\":colors})\n",
    "    if type == \"pct\":\n",
    "        df_cols = [\"pct_\"+ col for col in df_cols]\n",
    "        colors_df = pd.DataFrame({\"label\": df_cols, \"fill\":colors})\n",
    "        return {\"data\":df[['pct_X', 'pct_Y']].to_dict('records'), \"fill\":colors_df.to_dict('records'),\"value_type\":type,\"chart_type\":\"bar\"}\n",
    "    if type == \"abs\":\n",
    "        return {\"data\":df[['X', 'Y']].to_dict('records'), \"fill\":colors_df.to_dict('records'),\"value_type\":type,\"chart_type\":\"bar\"}\n",
    "\n",
    "def _donut_payload_generator(type = \"pct\"):\n",
    "    label_len = random.randint(1, 10)\n",
    "    x_max = random.randint(1, 100)\n",
    "    df = pd.DataFrame({\"label\":[names.get_full_name() for _ in range(label_len)], \"value\":np.random.uniform(0, x_max, label_len)})\n",
    "    if type == \"pct\":\n",
    "        df['value'] = df['value']/df['value'].sum()\n",
    "    df = df.round(2)\n",
    "    colors = [col_gen() for _ in range(df['label'].size)]\n",
    "    colors_df = pd.DataFrame({\"label\": df['label'].tolist(), \"fill\":colors})\n",
    "    return {\"data\":df.to_dict('records'), \"fill\":colors_df.to_dict('records'),\"value_type\":type,\"chart_type\":\"donut\"}\n",
    "\n",
    "def _line_payload_generator():\n",
    "    label_len = random.randint(1, 10)\n",
    "    x_max = random.randint(1, 100)\n",
    "    y_max = random.randint(1, 100)\n",
    "    df = pd.DataFrame({\"label\":[names.get_full_name() for _ in range(label_len)], \"X\":np.random.uniform(0, x_max, label_len), \"Y\":np.random.uniform(0, y_max, label_len)})\n",
    "    df = df.round(2)\n",
    "    colors = [col_gen() for _ in range(df.shape[1] - 1)]\n",
    "    df_cols = df.columns.tolist()\n",
    "    df_cols.remove('label')\n",
    "    colors_df = pd.DataFrame({\"label\": df_cols, \"fill\":colors})\n",
    "    return {\"data\":df.to_dict('records'), \"fill\":colors_df.to_dict('records'), \"value_type\":\"abs\",\"chart_type\":\"line\"}\n",
    "\n"
   ]
  },
  {
   "cell_type": "code",
   "execution_count": 81,
   "metadata": {},
   "outputs": [
    {
     "data": {
      "text/plain": [
       "{'data': [{'pct_X': 0.87, 'pct_Y': 0.13}],\n",
       " 'fill': [{'label': 'pct_X', 'fill': '#693683'},\n",
       "  {'label': 'pct_Y', 'fill': '#7b8afe'}],\n",
       " 'value_type': 'pct',\n",
       " 'chart_type': 'bar'}"
      ]
     },
     "execution_count": 81,
     "metadata": {},
     "output_type": "execute_result"
    }
   ],
   "source": [
    "_bar_payload_generator()"
   ]
  },
  {
   "cell_type": "code",
   "execution_count": 82,
   "metadata": {},
   "outputs": [
    {
     "data": {
      "text/plain": [
       "{'data': [{'label': 'Luis Morgan', 'value': 1.0}],\n",
       " 'fill': [{'label': 'Luis Morgan', 'fill': '#a0411e'}],\n",
       " 'value_type': 'pct',\n",
       " 'chart_type': 'donut'}"
      ]
     },
     "execution_count": 82,
     "metadata": {},
     "output_type": "execute_result"
    }
   ],
   "source": [
    "\n",
    "_donut_payload_generator()\n"
   ]
  },
  {
   "cell_type": "code",
   "execution_count": 83,
   "metadata": {},
   "outputs": [
    {
     "data": {
      "text/plain": [
       "{'data': [{'label': 'Maureen Cullen', 'X': 7.95, 'Y': 27.42},\n",
       "  {'label': 'Adrian Madison', 'X': 21.76, 'Y': 38.51},\n",
       "  {'label': 'Joshua Wilcoxen', 'X': 21.72, 'Y': 39.11},\n",
       "  {'label': 'Joe Grantham', 'X': 21.33, 'Y': 48.28},\n",
       "  {'label': 'Janae Brown', 'X': 2.99, 'Y': 10.49},\n",
       "  {'label': 'Paul Fulford', 'X': 8.8, 'Y': 38.8},\n",
       "  {'label': 'John Newman', 'X': 23.24, 'Y': 50.6}],\n",
       " 'fill': [{'label': 'X', 'fill': '#d05dde'},\n",
       "  {'label': 'Y', 'fill': '#5ca3ff'}],\n",
       " 'value_type': 'abs',\n",
       " 'chart_type': 'line'}"
      ]
     },
     "execution_count": 83,
     "metadata": {},
     "output_type": "execute_result"
    }
   ],
   "source": [
    "_line_payload_generator()"
   ]
  },
  {
   "cell_type": "code",
   "execution_count": 84,
   "metadata": {},
   "outputs": [],
   "source": [
    "raw_data = [\n",
    "{ \"bin\": \"1\", \"name\": \"1 - 2\", \"freq\": 6 },\n",
    "{ \"bin\": \"2\", \"name\": \"2 - 3\", \"freq\": 24 },\n",
    "{ \"bin\": \"3\", \"name\": \"3 - 4\", \"freq\": 20 },\n",
    "{ \"bin\": \"4\", \"name\": \"4 - 5\", \"freq\": 42 },\n",
    "{ \"bin\": \"5\", \"name\": \"5 - 6\", \"freq\": 20 }\n",
    "]"
   ]
  },
  {
   "cell_type": "code",
   "execution_count": 8,
   "metadata": {},
   "outputs": [
    {
     "data": {
      "text/html": [
       "<div>\n",
       "<style scoped>\n",
       "    .dataframe tbody tr th:only-of-type {\n",
       "        vertical-align: middle;\n",
       "    }\n",
       "\n",
       "    .dataframe tbody tr th {\n",
       "        vertical-align: top;\n",
       "    }\n",
       "\n",
       "    .dataframe thead th {\n",
       "        text-align: right;\n",
       "    }\n",
       "</style>\n",
       "<table border=\"1\" class=\"dataframe\">\n",
       "  <thead>\n",
       "    <tr style=\"text-align: right;\">\n",
       "      <th></th>\n",
       "      <th>val</th>\n",
       "    </tr>\n",
       "    <tr>\n",
       "      <th>ind</th>\n",
       "      <th></th>\n",
       "    </tr>\n",
       "  </thead>\n",
       "  <tbody>\n",
       "    <tr>\n",
       "      <th>prior110</th>\n",
       "      <td>13.962170</td>\n",
       "    </tr>\n",
       "    <tr>\n",
       "      <th>prior113</th>\n",
       "      <td>10.861125</td>\n",
       "    </tr>\n",
       "    <tr>\n",
       "      <th>prior118</th>\n",
       "      <td>21.304131</td>\n",
       "    </tr>\n",
       "    <tr>\n",
       "      <th>prior141</th>\n",
       "      <td>11.309109</td>\n",
       "    </tr>\n",
       "    <tr>\n",
       "      <th>prior144</th>\n",
       "      <td>11.363863</td>\n",
       "    </tr>\n",
       "    <tr>\n",
       "      <th>prior16</th>\n",
       "      <td>14.479841</td>\n",
       "    </tr>\n",
       "    <tr>\n",
       "      <th>prior217</th>\n",
       "      <td>10.403186</td>\n",
       "    </tr>\n",
       "    <tr>\n",
       "      <th>prior223</th>\n",
       "      <td>14.201095</td>\n",
       "    </tr>\n",
       "    <tr>\n",
       "      <th>prior245</th>\n",
       "      <td>7.974116</td>\n",
       "    </tr>\n",
       "    <tr>\n",
       "      <th>prior29</th>\n",
       "      <td>17.401692</td>\n",
       "    </tr>\n",
       "    <tr>\n",
       "      <th>prior352</th>\n",
       "      <td>9.860627</td>\n",
       "    </tr>\n",
       "    <tr>\n",
       "      <th>prior360</th>\n",
       "      <td>12.339472</td>\n",
       "    </tr>\n",
       "    <tr>\n",
       "      <th>prior370</th>\n",
       "      <td>16.207068</td>\n",
       "    </tr>\n",
       "    <tr>\n",
       "      <th>prior438</th>\n",
       "      <td>16.381284</td>\n",
       "    </tr>\n",
       "    <tr>\n",
       "      <th>prior55</th>\n",
       "      <td>20.587357</td>\n",
       "    </tr>\n",
       "    <tr>\n",
       "      <th>prior59</th>\n",
       "      <td>10.452962</td>\n",
       "    </tr>\n",
       "    <tr>\n",
       "      <th>prior60</th>\n",
       "      <td>15.828771</td>\n",
       "    </tr>\n",
       "    <tr>\n",
       "      <th>prior68</th>\n",
       "      <td>16.769537</td>\n",
       "    </tr>\n",
       "    <tr>\n",
       "      <th>prior74</th>\n",
       "      <td>16.918865</td>\n",
       "    </tr>\n",
       "    <tr>\n",
       "      <th>prior88</th>\n",
       "      <td>9.805874</td>\n",
       "    </tr>\n",
       "  </tbody>\n",
       "</table>\n",
       "</div>"
      ],
      "text/plain": [
       "                val\n",
       "ind                \n",
       "prior110  13.962170\n",
       "prior113  10.861125\n",
       "prior118  21.304131\n",
       "prior141  11.309109\n",
       "prior144  11.363863\n",
       "prior16   14.479841\n",
       "prior217  10.403186\n",
       "prior223  14.201095\n",
       "prior245   7.974116\n",
       "prior29   17.401692\n",
       "prior352   9.860627\n",
       "prior360  12.339472\n",
       "prior370  16.207068\n",
       "prior438  16.381284\n",
       "prior55   20.587357\n",
       "prior59   10.452962\n",
       "prior60   15.828771\n",
       "prior68   16.769537\n",
       "prior74   16.918865\n",
       "prior88    9.805874"
      ]
     },
     "execution_count": 8,
     "metadata": {},
     "output_type": "execute_result"
    }
   ],
   "source": [
    "import pandas as pd\n",
    "\n",
    "data = {'ind': ['prior110', 'prior113', 'prior118', 'prior141', 'prior144', 'prior16', 'prior217', 'prior223', 'prior245', 'prior29', 'prior352', 'prior360', 'prior370', 'prior438', 'prior55', 'prior59', 'prior60', 'prior68', 'prior74', 'prior88'],\n",
    "        'val': [13.96217, 10.861125, 21.304131, 11.309109, 11.363863, 14.479841, 10.403186, 14.201095, 7.974116, 17.401692, 9.860627, 12.339472, 16.207068, 16.381284, 20.587357, 10.452962, 15.828771, 16.769537, 16.918865, 9.805874]}\n",
    "\n",
    "prior_fails = pd.DataFrame(data, columns=['ind', 'val'])\n",
    "\n",
    "prior_fails.set_index('ind', inplace=True)\n",
    "\n",
    "prior_fails"
   ]
  },
  {
   "cell_type": "code",
   "execution_count": 11,
   "metadata": {},
   "outputs": [],
   "source": [
    "count, division = np.histogram(prior_fails['val'])"
   ]
  },
  {
   "cell_type": "code",
   "execution_count": 12,
   "metadata": {},
   "outputs": [
    {
     "data": {
      "text/plain": [
       "array([1, 4, 3, 1, 3, 1, 4, 1, 0, 2])"
      ]
     },
     "execution_count": 12,
     "metadata": {},
     "output_type": "execute_result"
    }
   ],
   "source": [
    "count"
   ]
  },
  {
   "cell_type": "code",
   "execution_count": 110,
   "metadata": {},
   "outputs": [],
   "source": [
    "\n",
    "\n",
    "def hist_payload_generate(s, step = 50):\n",
    "    bin_range = np.arange(-200, 1000+step, step)\n",
    "    out, bins  = pd.cut(s, bins=bin_range, include_lowest=True, right=False, retbins=True)\n",
    "    df = out.value_counts().to_frame().reset_index().rename(columns= {'index':'name', 0:'freq'})\n",
    "    x_col = []\n",
    "    for x in df['name']:\n",
    "        x_col.append(x.mid)\n",
    "    df['name'] = df['name'].astype(str)\n",
    "    df['name'] = df['name'].str.replace('\\[', '',regex = True)\n",
    "    df['name'] = df['name'].str.replace('\\)', '',regex = True)\n",
    "    df['name'] = df['name'].str.replace('\\,', ' -',regex = True)\n",
    "    df['value'] = x_col\n",
    "    df = df.rename(columns = {\"name\":\"label\"})\n",
    "    return df.to_dict('records')"
   ]
  },
  {
   "cell_type": "code",
   "execution_count": 111,
   "metadata": {},
   "outputs": [],
   "source": [
    "s = pd.Series([0.0,950.0,-70.0,812.0,0.0,-90.0,0.0,0.0,-90.0,0.0,-64.0,208.0,0.0,-90.0,0.0,-80.0,0.0,0.0,-80.0,-48.0,840.0,-100.0,190.0,130.0,-100.0,-100.0,0.0,-50.0,0.0,-100.0,-100.0,0.0,-90.0,0.0,-90.0,-90.0,63.0,-90.0,0.0,0.0,-90.0,-80.0,0.0,])\n",
    "\n",
    "df = _get_hist(s)"
   ]
  },
  {
   "cell_type": "code",
   "execution_count": 7,
   "metadata": {},
   "outputs": [
    {
     "data": {
      "text/plain": [
       "[{'x': 0.0, 'y': 0.0},\n",
       " {'x': 0.2, 'y': 0.01},\n",
       " {'x': 0.41, 'y': 0.06},\n",
       " {'x': 0.61, 'y': 0.12},\n",
       " {'x': 0.82, 'y': 0.22},\n",
       " {'x': 1.02, 'y': 0.35},\n",
       " {'x': 1.22, 'y': 0.5},\n",
       " {'x': 1.43, 'y': 0.68},\n",
       " {'x': 1.63, 'y': 0.89},\n",
       " {'x': 1.84, 'y': 1.12},\n",
       " {'x': 2.04, 'y': 1.39},\n",
       " {'x': 2.24, 'y': 1.68},\n",
       " {'x': 2.45, 'y': 2.0},\n",
       " {'x': 2.65, 'y': 2.35},\n",
       " {'x': 2.86, 'y': 2.72},\n",
       " {'x': 3.06, 'y': 3.12},\n",
       " {'x': 3.27, 'y': 3.55},\n",
       " {'x': 3.47, 'y': 4.01},\n",
       " {'x': 3.67, 'y': 4.5},\n",
       " {'x': 3.88, 'y': 5.01},\n",
       " {'x': 4.08, 'y': 5.55},\n",
       " {'x': 4.29, 'y': 6.12},\n",
       " {'x': 4.49, 'y': 6.72},\n",
       " {'x': 4.69, 'y': 7.34},\n",
       " {'x': 4.9, 'y': 8.0},\n",
       " {'x': 5.1, 'y': 8.68},\n",
       " {'x': 5.31, 'y': 9.38},\n",
       " {'x': 5.51, 'y': 10.12},\n",
       " {'x': 5.71, 'y': 10.88},\n",
       " {'x': 5.92, 'y': 11.68},\n",
       " {'x': 6.12, 'y': 12.49},\n",
       " {'x': 6.33, 'y': 13.34},\n",
       " {'x': 6.53, 'y': 14.22},\n",
       " {'x': 6.73, 'y': 15.12},\n",
       " {'x': 6.94, 'y': 16.05},\n",
       " {'x': 7.14, 'y': 17.01},\n",
       " {'x': 7.35, 'y': 17.99},\n",
       " {'x': 7.55, 'y': 19.01},\n",
       " {'x': 7.76, 'y': 20.05},\n",
       " {'x': 7.96, 'y': 21.12},\n",
       " {'x': 8.16, 'y': 22.21},\n",
       " {'x': 8.37, 'y': 23.34},\n",
       " {'x': 8.57, 'y': 24.49},\n",
       " {'x': 8.78, 'y': 25.67},\n",
       " {'x': 8.98, 'y': 26.88},\n",
       " {'x': 9.18, 'y': 28.11},\n",
       " {'x': 9.39, 'y': 29.38},\n",
       " {'x': 9.59, 'y': 30.67},\n",
       " {'x': 9.8, 'y': 31.99},\n",
       " {'x': 10.0, 'y': 33.33}]"
      ]
     },
     "execution_count": 7,
     "metadata": {},
     "output_type": "execute_result"
    }
   ],
   "source": [
    "import pandas as pd\n",
    "import numpy as np\n",
    "\n",
    "def _scatter_payload_generator():\n",
    "    x = np.linspace(0,10)\n",
    "    y = np.random.uniform(0, 100, x.size)\n",
    "    df = pd.DataFrame({\"x\": x,\"y\":   y }).round(2).to_dict(\"records\")\n",
    "    colors_df = pd.DataFrame({\"x\":col_gen(),\"y\":col_gen()}).to_dict(\"records\")\n",
    "    return {\n",
    "        \"data\": df.to_dict(\"records\"),\n",
    "        \"fill\": colors_df.to_dict(\"records\"),\n",
    "        \"value_type\": \"abs\",\n",
    "        \"chart_type\": \"scatter\",\n",
    "    }"
   ]
  },
  {
   "cell_type": "code",
   "execution_count": 70,
   "metadata": {},
   "outputs": [
    {
     "data": {
      "text/plain": [
       "0       0.0\n",
       "1     950.0\n",
       "2     -70.0\n",
       "3     812.0\n",
       "4       0.0\n",
       "5     -90.0\n",
       "6       0.0\n",
       "7       0.0\n",
       "8     -90.0\n",
       "9       0.0\n",
       "10    -64.0\n",
       "11    208.0\n",
       "12      0.0\n",
       "13    -90.0\n",
       "14      0.0\n",
       "15    -80.0\n",
       "16      0.0\n",
       "17      0.0\n",
       "18    -80.0\n",
       "19    -48.0\n",
       "20    840.0\n",
       "21   -100.0\n",
       "22    190.0\n",
       "23    130.0\n",
       "24   -100.0\n",
       "25   -100.0\n",
       "26      0.0\n",
       "27    -50.0\n",
       "28      0.0\n",
       "29   -100.0\n",
       "30   -100.0\n",
       "31      0.0\n",
       "32    -90.0\n",
       "33      0.0\n",
       "34    -90.0\n",
       "35    -90.0\n",
       "36     63.0\n",
       "37    -90.0\n",
       "38      0.0\n",
       "39      0.0\n",
       "40    -90.0\n",
       "41    -80.0\n",
       "42      0.0\n",
       "dtype: float64"
      ]
     },
     "execution_count": 70,
     "metadata": {},
     "output_type": "execute_result"
    }
   ],
   "source": [
    "s"
   ]
  },
  {
   "cell_type": "code",
   "execution_count": null,
   "metadata": {},
   "outputs": [],
   "source": [
    "[\n",
    "  {\n",
    "    name: \"01/2020\",\n",
    "    uv: 2400, // uv is the part of the graph we want to show\n",
    "    pv: 0 // pv is the floating part (transparent)\n",
    "  },\n",
    "  {\n",
    "    name: \"02/2020\",\n",
    "    uv: -400,\n",
    "    pv: 2400 // to get this pv, we use 01/2020's uv + pv\n",
    "  },\n",
    "  {\n",
    "    name: \"03/2020\",\n",
    "    uv: -400,\n",
    "    pv: 2000 // use 02/2020's uv + pv, and so forth\n",
    "  },\n",
    "  {\n",
    "    name: \"04/2020\",\n",
    "    uv: 800,\n",
    "    pv: 1600\n",
    "  },\n",
    "  {\n",
    "    name: \"05/2020\",\n",
    "    uv: 900,\n",
    "    pv: 2400\n",
    "  },\n",
    "  {\n",
    "    name: \"06/2020\",\n",
    "    uv: -500,\n",
    "    pv: 3300\n",
    "  },\n",
    "  {\n",
    "    name: \"07/2020\",\n",
    "    uv: 900,\n",
    "    pv: 2800\n",
    "  },\n",
    "  {\n",
    "    name: \"Total\",\n",
    "    uv: 3700,\n",
    "    pv: 0\n",
    "  }\n",
    "]"
   ]
  },
  {
   "cell_type": "code",
   "execution_count": 20,
   "metadata": {},
   "outputs": [],
   "source": [
    "import random\n",
    "import pandas as pd\n",
    "import numpy as np"
   ]
  },
  {
   "cell_type": "code",
   "execution_count": 61,
   "metadata": {},
   "outputs": [],
   "source": [
    "def random_dates(start = pd.to_datetime('2015-01-01'), end = pd.to_datetime('2018-01-01'), unit='D', seed=None):\n",
    "    n = random.randint(4,12)\n",
    "    if not seed:  # from piR's answer\n",
    "        np.random.seed(0)\n",
    "    ndays = (end - start).days + 1\n",
    "    return pd.to_timedelta(np.random.rand(n) * ndays, unit=unit) + start"
   ]
  },
  {
   "cell_type": "code",
   "execution_count": 74,
   "metadata": {},
   "outputs": [],
   "source": [
    "\n",
    "\n",
    "dates_list = pd.Series(random_dates().sort_values()).dt.to_period('M').drop_duplicates().astype(str).tolist()\n",
    "old_list = [{\"uv\": float(np.random.uniform(2700, 4500, 1)), \"pv\": 0}]\n",
    "for index in range(1, len(dates_list)):\n",
    "    old_list.append({\"uv\":old_list[index-1][\"uv\"] + old_list[index-1][\"pv\"],\"pv\":float(np.random.uniform(-500,500,1))})\n",
    "old_list[len(dates_list)-1]['pv'] = 0\n",
    "df = pd.DataFrame(old_list)\n",
    "df['date'] = dates_list"
   ]
  },
  {
   "cell_type": "code",
   "execution_count": 75,
   "metadata": {},
   "outputs": [
    {
     "data": {
      "text/html": [
       "<div>\n",
       "<style scoped>\n",
       "    .dataframe tbody tr th:only-of-type {\n",
       "        vertical-align: middle;\n",
       "    }\n",
       "\n",
       "    .dataframe tbody tr th {\n",
       "        vertical-align: top;\n",
       "    }\n",
       "\n",
       "    .dataframe thead th {\n",
       "        text-align: right;\n",
       "    }\n",
       "</style>\n",
       "<table border=\"1\" class=\"dataframe\">\n",
       "  <thead>\n",
       "    <tr style=\"text-align: right;\">\n",
       "      <th></th>\n",
       "      <th>uv</th>\n",
       "      <th>pv</th>\n",
       "      <th>date</th>\n",
       "    </tr>\n",
       "  </thead>\n",
       "  <tbody>\n",
       "    <tr>\n",
       "      <th>0</th>\n",
       "      <td>3652.010856</td>\n",
       "      <td>0.000000</td>\n",
       "      <td>2016-02</td>\n",
       "    </tr>\n",
       "    <tr>\n",
       "      <th>1</th>\n",
       "      <td>3652.010856</td>\n",
       "      <td>68.044561</td>\n",
       "      <td>2016-04</td>\n",
       "    </tr>\n",
       "    <tr>\n",
       "      <th>2</th>\n",
       "      <td>3720.055417</td>\n",
       "      <td>425.596638</td>\n",
       "      <td>2016-08</td>\n",
       "    </tr>\n",
       "    <tr>\n",
       "      <th>3</th>\n",
       "      <td>4145.652055</td>\n",
       "      <td>-428.963942</td>\n",
       "      <td>2016-10</td>\n",
       "    </tr>\n",
       "    <tr>\n",
       "      <th>4</th>\n",
       "      <td>3716.688113</td>\n",
       "      <td>-412.870700</td>\n",
       "      <td>2016-12</td>\n",
       "    </tr>\n",
       "    <tr>\n",
       "      <th>5</th>\n",
       "      <td>3303.817413</td>\n",
       "      <td>-479.781603</td>\n",
       "      <td>2017-02</td>\n",
       "    </tr>\n",
       "    <tr>\n",
       "      <th>6</th>\n",
       "      <td>2824.035810</td>\n",
       "      <td>332.619846</td>\n",
       "      <td>2017-05</td>\n",
       "    </tr>\n",
       "    <tr>\n",
       "      <th>7</th>\n",
       "      <td>3156.655656</td>\n",
       "      <td>278.156751</td>\n",
       "      <td>2017-09</td>\n",
       "    </tr>\n",
       "    <tr>\n",
       "      <th>8</th>\n",
       "      <td>3434.812407</td>\n",
       "      <td>0.000000</td>\n",
       "      <td>2017-11</td>\n",
       "    </tr>\n",
       "  </tbody>\n",
       "</table>\n",
       "</div>"
      ],
      "text/plain": [
       "            uv          pv     date\n",
       "0  3652.010856    0.000000  2016-02\n",
       "1  3652.010856   68.044561  2016-04\n",
       "2  3720.055417  425.596638  2016-08\n",
       "3  4145.652055 -428.963942  2016-10\n",
       "4  3716.688113 -412.870700  2016-12\n",
       "5  3303.817413 -479.781603  2017-02\n",
       "6  2824.035810  332.619846  2017-05\n",
       "7  3156.655656  278.156751  2017-09\n",
       "8  3434.812407    0.000000  2017-11"
      ]
     },
     "execution_count": 75,
     "metadata": {},
     "output_type": "execute_result"
    }
   ],
   "source": [
    "df"
   ]
  },
  {
   "cell_type": "code",
   "execution_count": null,
   "metadata": {},
   "outputs": [],
   "source": [
    "\"https://raw.githubusercontent.com/holtzy/data_to_viz/master/Example_dataset/4_ThreeNum.csv\""
   ]
  }
 ],
 "metadata": {
  "interpreter": {
   "hash": "916dbcbb3f70747c44a77c7bcd40155683ae19c65e1c03b4aa3499c5328201f1"
  },
  "kernelspec": {
   "display_name": "Python 3.8.10 64-bit",
   "language": "python",
   "name": "python3"
  },
  "language_info": {
   "codemirror_mode": {
    "name": "ipython",
    "version": 3
   },
   "file_extension": ".py",
   "mimetype": "text/x-python",
   "name": "python",
   "nbconvert_exporter": "python",
   "pygments_lexer": "ipython3",
   "version": "3.8.10"
  },
  "orig_nbformat": 4
 },
 "nbformat": 4,
 "nbformat_minor": 2
}
