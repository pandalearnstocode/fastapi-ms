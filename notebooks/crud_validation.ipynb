{
 "cells": [
  {
   "cell_type": "code",
   "execution_count": 1,
   "metadata": {},
   "outputs": [],
   "source": [
    "import requests\n",
    "import uuid"
   ]
  },
  {
   "cell_type": "code",
   "execution_count": 2,
   "metadata": {},
   "outputs": [
    {
     "data": {
      "text/plain": [
       "{'message': 'pong'}"
      ]
     },
     "execution_count": 2,
     "metadata": {},
     "output_type": "execute_result"
    }
   ],
   "source": [
    "url = \"http://localhost:8005/ping\"\n",
    "r = requests.get(url)\n",
    "r.json()"
   ]
  },
  {
   "cell_type": "code",
   "execution_count": 3,
   "metadata": {},
   "outputs": [
    {
     "data": {
      "text/plain": [
       "200"
      ]
     },
     "execution_count": 3,
     "metadata": {},
     "output_type": "execute_result"
    }
   ],
   "source": [
    "payload = {\n",
    "  \"task_id\": str(uuid.uuid4()),\n",
    "  \"task_type\": \"1\",\n",
    "  \"task_status\": \"SUBMITTED\",\n",
    "  \"task_result\": \"\"\n",
    "}\n",
    "url = \"http://localhost:8005/task\"\n",
    "\n",
    "r = requests.post(url, json=payload)\n",
    "r.status_code"
   ]
  },
  {
   "cell_type": "code",
   "execution_count": 4,
   "metadata": {},
   "outputs": [
    {
     "data": {
      "text/plain": [
       "{'task_id': '854bf5b1-9c6f-452e-a2ff-bd0cb1420818',\n",
       " 'task_type': '1',\n",
       " 'task_status': 'SUBMITTED',\n",
       " 'task_result': '',\n",
       " 'id': 2}"
      ]
     },
     "execution_count": 4,
     "metadata": {},
     "output_type": "execute_result"
    }
   ],
   "source": [
    "r.json()"
   ]
  },
  {
   "cell_type": "code",
   "execution_count": 9,
   "metadata": {},
   "outputs": [
    {
     "data": {
      "text/plain": [
       "{'id': 1, 'task_type': '1'}"
      ]
     },
     "execution_count": 9,
     "metadata": {},
     "output_type": "execute_result"
    }
   ],
   "source": [
    "# payload = {\n",
    "#  'task_id': '8fb133b9-b62b-4766-a6e8-2bcf17f69cce',\n",
    "#  'task_type': '1',\n",
    "#  'task_status': 'PROCESSING',\n",
    "#  'task_result': ''}\n",
    "\n",
    "\n",
    "\n",
    "url = \"http://localhost:8005/id/26de0ca9-f142-4b31-bc22-ea51db7f1736\"\n",
    "\n",
    "r = requests.get(url)\n",
    "r.json()"
   ]
  },
  {
   "cell_type": "code",
   "execution_count": 11,
   "metadata": {},
   "outputs": [
    {
     "data": {
      "text/plain": [
       "{'task_id': 'b0b8844a-4f08-40ce-81d2-d10d925a074a',\n",
       " 'task_type': '1',\n",
       " 'task_status': 'PENDING',\n",
       " 'task_result': '',\n",
       " 'id': 1}"
      ]
     },
     "execution_count": 11,
     "metadata": {},
     "output_type": "execute_result"
    }
   ],
   "source": [
    "url = \"http://localhost:8005/task/1\"\n",
    "result = {\n",
    "    \"task_id\": str(\"b0b8844a-4f08-40ce-81d2-d10d925a074a\"),\n",
    "    \"task_status\": str(\"PENDING\"),\n",
    "    \"task_result\": \"\",\n",
    "    \"task_type\": str(\"1\"),\n",
    "}\n",
    "r = requests.put(url, json=result)\n",
    "r.json()"
   ]
  },
  {
   "cell_type": "code",
   "execution_count": null,
   "metadata": {},
   "outputs": [],
   "source": []
  }
 ],
 "metadata": {
  "interpreter": {
   "hash": "916dbcbb3f70747c44a77c7bcd40155683ae19c65e1c03b4aa3499c5328201f1"
  },
  "kernelspec": {
   "display_name": "Python 3.8.10 64-bit",
   "language": "python",
   "name": "python3"
  },
  "language_info": {
   "codemirror_mode": {
    "name": "ipython",
    "version": 3
   },
   "file_extension": ".py",
   "mimetype": "text/x-python",
   "name": "python",
   "nbconvert_exporter": "python",
   "pygments_lexer": "ipython3",
   "version": "3.8.10"
  },
  "orig_nbformat": 4
 },
 "nbformat": 4,
 "nbformat_minor": 2
}
